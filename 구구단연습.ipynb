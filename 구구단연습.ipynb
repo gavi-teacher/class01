{
  "nbformat": 4,
  "nbformat_minor": 0,
  "metadata": {
    "colab": {
      "provenance": [],
      "authorship_tag": "ABX9TyM/e3g8W0A932R643V8Q19G",
      "include_colab_link": true
    },
    "kernelspec": {
      "name": "python3",
      "display_name": "Python 3"
    },
    "language_info": {
      "name": "python"
    }
  },
  "cells": [
    {
      "cell_type": "markdown",
      "metadata": {
        "id": "view-in-github",
        "colab_type": "text"
      },
      "source": [
        "<a href=\"https://colab.research.google.com/github/gavi-teacher/class01/blob/main/%EA%B5%AC%EA%B5%AC%EB%8B%A8%EC%97%B0%EC%8A%B5.ipynb\" target=\"_parent\"><img src=\"https://colab.research.google.com/assets/colab-badge.svg\" alt=\"Open In Colab\"/></a>"
      ]
    },
    {
      "cell_type": "code",
      "execution_count": 1,
      "metadata": {
        "colab": {
          "base_uri": "https://localhost:8080/"
        },
        "id": "XVRR4JghNZD4",
        "outputId": "84b0c1ba-1bf0-430f-8cc9-8f1179a7c8bf"
      },
      "outputs": [
        {
          "output_type": "stream",
          "name": "stdout",
          "text": [
            "안녕하세요! 구구단 연습 게임을 시작할까요?\n",
            "문제를 풀고 싶으면 답을 입력하고, 게임을 끝내고 싶으면 '끝'이라고 입력하세요.\n",
            "2 곱하기 1 은/는 무엇일까요? 2\n",
            "맞았어요! 정말 잘하네요!\n",
            "5 곱하기 2 은/는 무엇일까요? 10\n",
            "맞았어요! 정말 잘하네요!\n",
            "2 곱하기 5 은/는 무엇일까요? 4\n",
            "아쉽지만 틀렸어요. 정답은 10 입니다.\n",
            "9 곱하기 2 은/는 무엇일까요? 끝\n",
            "구구단 연습 게임을 종료합니다. 수고했어요!\n"
          ]
        }
      ],
      "source": [
        "# prompt: 초등학생이 구구단을 연습할 수 있도록 코드를 작성해줘. 코드 설명도 추가해줘\n",
        "\n",
        "import random\n",
        "\n",
        "# 구구단 연습 게임 함수 정의\n",
        "def multiplication_game():\n",
        "    print(\"안녕하세요! 구구단 연습 게임을 시작할까요?\")\n",
        "    print(\"문제를 풀고 싶으면 답을 입력하고, 게임을 끝내고 싶으면 '끝'이라고 입력하세요.\")\n",
        "\n",
        "    while True:\n",
        "        # 2단부터 9단까지 중에서 랜덤으로 단을 선택\n",
        "        dan = random.randint(2, 9)\n",
        "        # 2부터 9까지 중에서 랜덤으로 곱하는 수를 선택\n",
        "        num = random.randint(2, 9)\n",
        "\n",
        "        # 문제 출제\n",
        "        question = f\"{dan} 곱하기 {num} 은/는 무엇일까요? \"\n",
        "        user_answer = input(question)\n",
        "\n",
        "        # '끝'이라고 입력하면 게임 종료\n",
        "        if user_answer == '끝':\n",
        "            print(\"구구단 연습 게임을 종료합니다. 수고했어요!\")\n",
        "            break\n",
        "\n",
        "        try:\n",
        "            # 사용자의 입력을 숫자로 변환\n",
        "            user_answer_int = int(user_answer)\n",
        "            # 정답 계산\n",
        "            correct_answer = dan * num\n",
        "\n",
        "            # 정답 확인\n",
        "            if user_answer_int == correct_answer:\n",
        "                print(\"맞았어요! 정말 잘하네요!\")\n",
        "            else:\n",
        "                print(f\"아쉽지만 틀렸어요. 정답은 {correct_answer} 입니다.\")\n",
        "        except ValueError:\n",
        "            # 숫자가 아닌 다른 값을 입력했을 경우\n",
        "            print(\"숫자 또는 '끝'만 입력해주세요.\")\n",
        "\n",
        "# 게임 시작\n",
        "multiplication_game()\n",
        "\n"
      ]
    }
  ]
}