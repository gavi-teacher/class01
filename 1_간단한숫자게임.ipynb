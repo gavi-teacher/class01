{
  "nbformat": 4,
  "nbformat_minor": 0,
  "metadata": {
    "colab": {
      "provenance": [],
      "include_colab_link": true
    },
    "kernelspec": {
      "name": "python3",
      "display_name": "Python 3"
    },
    "language_info": {
      "name": "python"
    }
  },
  "cells": [
    {
      "cell_type": "markdown",
      "metadata": {
        "id": "view-in-github",
        "colab_type": "text"
      },
      "source": [
        "<a href=\"https://colab.research.google.com/github/gavi-teacher/class01/blob/main/1_%EA%B0%84%EB%8B%A8%ED%95%9C%EC%88%AB%EC%9E%90%EA%B2%8C%EC%9E%84.ipynb\" target=\"_parent\"><img src=\"https://colab.research.google.com/assets/colab-badge.svg\" alt=\"Open In Colab\"/></a>"
      ]
    },
    {
      "cell_type": "code",
      "execution_count": null,
      "metadata": {
        "id": "1kT_8vl7AJsM"
      },
      "outputs": [],
      "source": [
        "# 첫번째 영재학급 수업"
      ]
    },
    {
      "cell_type": "code",
      "source": [
        "# prompt: 간단한 숫자게임 만들어줘. 코드를 한줄 한줄 설명해줘.\n",
        "\n",
        "import random\n",
        "\n",
        "# 1부터 100까지의 랜덤한 숫자를 생성합니다.\n",
        "secret_number = random.randint(1, 100)\n",
        "\n",
        "# 게임 시작을 알리는 메시지를 출력합니다.\n",
        "print(\"숫자 맞추기 게임에 오신 것을 환영합니다!\")\n",
        "\n",
        "# 사용자에게 숫자를 입력받아 맞출 기회를 줍니다.\n",
        "guesses_left = 7  # 남은 기회를 설정합니다.\n",
        "\n",
        "while guesses_left > 0:\n",
        "    try:\n",
        "        # 사용자로부터 숫자를 입력받습니다.\n",
        "        guess = int(input(f\"1부터 100까지의 숫자를 입력하세요 (남은 기회: {guesses_left}): \"))\n",
        "\n",
        "        # 입력한 숫자가 범위를 벗어나면 다시 입력하도록 합니다.\n",
        "        if guess < 1 or guess > 100:\n",
        "            print(\"1부터 100까지의 숫자를 입력해주세요.\")\n",
        "            continue  # 다음 반복으로 넘어갑니다.\n",
        "\n",
        "        # 입력한 숫자와 정답을 비교하여 결과를 출력합니다.\n",
        "        if guess == secret_number:\n",
        "            print(f\"정답입니다! {secret_number}를 맞추셨습니다!\")\n",
        "            break  # 정답을 맞추면 반복문을 종료합니다.\n",
        "        elif guess < secret_number:\n",
        "            print(\"너무 낮습니다!\")\n",
        "        else:\n",
        "            print(\"너무 높습니다!\")\n",
        "\n",
        "        # 남은 기회를 줄입니다.\n",
        "        guesses_left -= 1\n",
        "\n",
        "    except ValueError:\n",
        "        # 사용자가 숫자가 아닌 값을 입력하면 에러 메시지를 출력하고 다시 입력받습니다.\n",
        "        print(\"숫자를 입력해주세요.\")\n",
        "\n",
        "# 기회를 모두 소진했을 경우 결과를 출력합니다.\n",
        "if guesses_left == 0:\n",
        "    print(f\"기회를 모두 소진했습니다. 정답은 {secret_number}였습니다.\")\n"
      ],
      "metadata": {
        "colab": {
          "base_uri": "https://localhost:8080/"
        },
        "id": "qQYrmyp-NXqX",
        "outputId": "f785f71d-32a6-41fd-cb5e-c64024aeaf97"
      },
      "execution_count": null,
      "outputs": [
        {
          "output_type": "stream",
          "name": "stdout",
          "text": [
            "숫자 맞추기 게임에 오신 것을 환영합니다!\n",
            "1부터 100까지의 숫자를 입력하세요 (남은 기회: 7): 5\n",
            "너무 낮습니다!\n",
            "1부터 100까지의 숫자를 입력하세요 (남은 기회: 6): 4\n",
            "너무 낮습니다!\n",
            "1부터 100까지의 숫자를 입력하세요 (남은 기회: 5): 3\n",
            "너무 낮습니다!\n",
            "1부터 100까지의 숫자를 입력하세요 (남은 기회: 4): 2\n",
            "너무 낮습니다!\n",
            "1부터 100까지의 숫자를 입력하세요 (남은 기회: 3): 1\n",
            "너무 낮습니다!\n",
            "1부터 100까지의 숫자를 입력하세요 (남은 기회: 2): 1\n",
            "너무 낮습니다!\n",
            "1부터 100까지의 숫자를 입력하세요 (남은 기회: 1): 1\n",
            "너무 낮습니다!\n",
            "기회를 모두 소진했습니다. 정답은 99였습니다.\n"
          ]
        }
      ]
    },
    {
      "cell_type": "code",
      "source": [],
      "metadata": {
        "id": "yVk2x4_0OGm-"
      },
      "execution_count": null,
      "outputs": []
    }
  ]
}